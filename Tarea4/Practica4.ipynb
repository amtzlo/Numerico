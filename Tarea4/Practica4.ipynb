{
 "cells": [
  {
   "cell_type": "markdown",
   "metadata": {},
   "source": [
    "# Practica 4"
   ]
  },
  {
   "cell_type": "markdown",
   "metadata": {},
   "source": [
    "## Integrantes"
   ]
  },
  {
   "cell_type": "markdown",
   "metadata": {},
   "source": [
    "- Diego Pichardo Blancas\n",
    "- Abel Alejandro Martinez Loredo"
   ]
  },
  {
   "cell_type": "code",
   "execution_count": 2,
   "metadata": {},
   "outputs": [],
   "source": [
    "import math\n",
    "import numpy as np\n",
    "import matplotlib.pyplot as plt"
   ]
  },
  {
   "cell_type": "markdown",
   "metadata": {},
   "source": [
    "\n",
    "## Ejercicio 1"
   ]
  },
  {
   "cell_type": "code",
   "execution_count": 3,
   "metadata": {},
   "outputs": [],
   "source": [
    "def biseccion(f, a, b, tolerancia, max_iters = 100):\n",
    "    iters = 0\n",
    "    while iters< max_iters:\n",
    "        c = (a + b)/2\n",
    "        if (f(c) == 0) or ((b - a)/2 < tolerancia):\n",
    "            return c\n",
    "        iters += 1\n",
    "        if (f(c) > 0 and f(a) > 0) or (f(c) <= 0 and f(a) <= 0):\n",
    "            a = c\n",
    "        else:\n",
    "            b = c\n",
    "    print(\"El metodo fallo\")\n",
    "    return None\n",
    "\n",
    "def secante(f, a, b, tolerancia, max_iters = 100):\n",
    "    for _ in range(max_iters):\n",
    "        c = b - f(b) * ((b - a) / (f(b) - f(a)))\n",
    "        a, b = b, c\n",
    "        if (f(c) == 0) or (abs(a - c) < tolerancia):\n",
    "            return c\n",
    "    return c\n",
    "def Newton(f, df, x0, tolerancia , max_iters = 100,):\n",
    "  for i in range(max_iters):\n",
    "    fx = f(x0)\n",
    "    dfx = df(x0)\n",
    "\n",
    "    xn = x0 - (fx/float(dfx))\n",
    "    if abs(f(xn))<=tolerancia and abs(xn - x0) <= tolerancia:\n",
    "      print(\"Tu raiz es \"+str(xn))\n",
    "      return xn\n",
    "    x0 = xn\n",
    "  print(\"El valor aproximado de tu raiz es \"+str(xn))\n",
    "  return xn\n",
    "def ReglaFalsa(Tol,N,f,a,b):\n",
    "  fa,fb=f(a),f(b)\n",
    "  if fa*fb>0.0:\n",
    "    print(\"No tiene raíces en el intervalo\")\n",
    "\n",
    "  x0=0.0\n",
    "  Iter=0\n",
    "  while Iter<=N:\n",
    "    x1=(a*fb-b*fa)/(fb-fa)\n",
    "    fx1=f(x1)\n",
    "    if abs(fx1)<=Tol and abs(x1-x0)<=Tol:\n",
    "      print(\"Tu raiz es \"+str(x1))\n",
    "      return x1\n",
    "\n",
    "    if fa*fx1<0:\n",
    "      b=x1\n",
    "    if fx1*fb<0:\n",
    "      a=x1\n",
    "\n",
    "    x0=x1\n",
    "    Iter+=1\n",
    "\n",
    "  else:\n",
    "    print(\"El valor aproximado de tu raiz es \"+str(x1))"
   ]
  },
  {
   "cell_type": "markdown",
   "metadata": {},
   "source": [
    "## Ejercicio 2"
   ]
  },
  {
   "cell_type": "code",
   "execution_count": 4,
   "metadata": {},
   "outputs": [],
   "source": [
    "tolerancia = 10**-5"
   ]
  },
  {
   "cell_type": "markdown",
   "metadata": {},
   "source": [
    "### a)"
   ]
  },
  {
   "cell_type": "code",
   "execution_count": 5,
   "metadata": {},
   "outputs": [],
   "source": [
    "f1 = lambda x: x - 2 ** (-x)"
   ]
  },
  {
   "cell_type": "code",
   "execution_count": 6,
   "metadata": {},
   "outputs": [
    {
     "data": {
      "text/plain": [
       "0.6411819458007812"
      ]
     },
     "execution_count": 6,
     "metadata": {},
     "output_type": "execute_result"
    }
   ],
   "source": [
    "biseccion(f1, 0, 1, 10**-5, 20)"
   ]
  },
  {
   "cell_type": "markdown",
   "metadata": {},
   "source": [
    "### b)"
   ]
  },
  {
   "cell_type": "code",
   "execution_count": 7,
   "metadata": {},
   "outputs": [],
   "source": [
    "f2 = lambda x: x - math.exp(-x)"
   ]
  },
  {
   "cell_type": "code",
   "execution_count": 8,
   "metadata": {},
   "outputs": [
    {
     "data": {
      "text/plain": [
       "0.5671463012695312"
      ]
     },
     "execution_count": 8,
     "metadata": {},
     "output_type": "execute_result"
    }
   ],
   "source": [
    "biseccion(f2, 0, 1, tolerancia, 100)"
   ]
  },
  {
   "cell_type": "markdown",
   "metadata": {},
   "source": [
    "### c)"
   ]
  },
  {
   "cell_type": "code",
   "execution_count": 9,
   "metadata": {},
   "outputs": [],
   "source": [
    "f3 = lambda x: 2*x * math.cos(2*x) - (x + 1)**2"
   ]
  },
  {
   "cell_type": "code",
   "execution_count": 10,
   "metadata": {},
   "outputs": [
    {
     "data": {
      "text/plain": [
       "-2.1913070678710938"
      ]
     },
     "execution_count": 10,
     "metadata": {},
     "output_type": "execute_result"
    }
   ],
   "source": [
    "biseccion(f3, -3, -2, tolerancia)"
   ]
  },
  {
   "cell_type": "code",
   "execution_count": 11,
   "metadata": {},
   "outputs": [
    {
     "data": {
      "text/plain": [
       "-0.7981643676757812"
      ]
     },
     "execution_count": 11,
     "metadata": {},
     "output_type": "execute_result"
    }
   ],
   "source": [
    "biseccion(f3, -1, 0, tolerancia)"
   ]
  },
  {
   "cell_type": "markdown",
   "metadata": {},
   "source": [
    "### d)"
   ]
  },
  {
   "cell_type": "code",
   "execution_count": 12,
   "metadata": {},
   "outputs": [],
   "source": [
    "f4 = lambda x: x*math.cos(x)- 2*x**2 + 3*x  - 1"
   ]
  },
  {
   "cell_type": "code",
   "execution_count": 13,
   "metadata": {},
   "outputs": [
    {
     "data": {
      "text/plain": [
       "0.29752807617187504"
      ]
     },
     "execution_count": 13,
     "metadata": {},
     "output_type": "execute_result"
    }
   ],
   "source": [
    "biseccion(f4, 0.2, 0.3, tolerancia)"
   ]
  },
  {
   "cell_type": "code",
   "execution_count": 14,
   "metadata": {},
   "outputs": [
    {
     "data": {
      "text/plain": [
       "1.256622314453125"
      ]
     },
     "execution_count": 14,
     "metadata": {},
     "output_type": "execute_result"
    }
   ],
   "source": [
    "biseccion(f4, 1.2, 1.3, tolerancia)"
   ]
  },
  {
   "cell_type": "markdown",
   "metadata": {},
   "source": [
    "## Ejercicio 4"
   ]
  },
  {
   "cell_type": "code",
   "execution_count": 15,
   "metadata": {},
   "outputs": [],
   "source": [
    "f5 = lambda x: x**2 - 3"
   ]
  },
  {
   "cell_type": "code",
   "execution_count": 16,
   "metadata": {},
   "outputs": [
    {
     "data": {
      "text/plain": [
       "1.73199462890625"
      ]
     },
     "execution_count": 16,
     "metadata": {},
     "output_type": "execute_result"
    }
   ],
   "source": [
    "biseccion(f5, 1, 2, 10**-4)"
   ]
  },
  {
   "cell_type": "markdown",
   "metadata": {},
   "source": [
    "## Ejercicio 7"
   ]
  },
  {
   "cell_type": "code",
   "execution_count": 18,
   "metadata": {},
   "outputs": [
    {
     "name": "stdout",
     "output_type": "stream",
     "text": [
      "EL punto fijo es 3.626995622438735\n"
     ]
    },
    {
     "data": {
      "image/png": "[encoded data removed]",
      "text/plain": [
       "<Figure size 800x600 with 1 Axes>"
      ]
     },
     "metadata": {},
     "output_type": "display_data"
    }
   ],
   "source": [
    "#_____________________________Definimos funciones______________________________\n",
    "def g(x):\n",
    "    return np.pi + 0.5 * np.sin(x / 2)\n",
    "\n",
    "def FixPoint(g, x_0, Tol=10**(-2), N=20):\n",
    "    #N es el numero de iteraciones\n",
    "    # Tol es la tolerancia\n",
    "    # g es la función a la cual se le quiere\n",
    "    # obtener el punto fijo\n",
    "    # x0 es la condicion inicial\n",
    "\n",
    "      n=1\n",
    "      while n<=N:\n",
    "          x1=g(x_0)\n",
    "          if abs(x1-x_0)<=Tol:\n",
    "              print(f\"EL punto fijo es {x1}\")\n",
    "              return x1\n",
    "          x_0=x1\n",
    "          n+=1\n",
    "      else:\n",
    "          print(f\"Una aproximación del punto fijo es {x1}\")\n",
    "          return x1\n",
    "\n",
    "#_________________________________Ejercicios___________________________________    \n",
    "\n",
    "# Ejercicio 7\n",
    "\n",
    "x_0 = 0  \n",
    "punto_fijo = FixPoint(g, x_0)\n",
    "\n",
    "# Graficar la función g(x) y la línea y = x para visualizar el punto fijo\n",
    "x = np.linspace(0, 2 * np.pi, 500)\n",
    "y = g(x)\n",
    "\n",
    "plt.figure(figsize=(8, 6))\n",
    "plt.plot(x, y, label=r\"$g(x) = \\pi + 0.5\\sin(x/2)$\")\n",
    "plt.plot(x, x, label=r\"$y = x$\", linestyle=\"--\", color=\"gray\")\n",
    "plt.scatter(punto_fijo, g(punto_fijo), color=\"red\", label=f\"Punto fijo: {punto_fijo:.2f}\")\n",
    "plt.title(\"Método de Punto Fijo\")\n",
    "plt.xlabel(\"x\")\n",
    "plt.ylabel(\"y\")\n",
    "plt.axhline(0, color=\"black\", linewidth=0.5, linestyle=\"--\")\n",
    "plt.axvline(0, color=\"black\", linewidth=0.5, linestyle=\"--\")\n",
    "plt.legend()\n",
    "plt.grid()\n",
    "plt.show()"
   ]
  },
  {
   "cell_type": "markdown",
   "metadata": {},
   "source": [
    "## Ejercicio 9 "
   ]
  },
  {
   "cell_type": "markdown",
   "metadata": {},
   "source": [
    "### a)"
   ]
  },
  {
   "cell_type": "code",
   "execution_count": 13,
   "metadata": {},
   "outputs": [],
   "source": [
    "f7 = lambda x: math.exp(x) + 2 ** (-x) + 2 * math.cos(x) - 6\n",
    "df7 = lambda x: math.exp(x) - math.log(x)*2**(-x) - 2 * math.sin(x)\n",
    "tolerancia = 10e-5"
   ]
  },
  {
   "cell_type": "code",
   "execution_count": 14,
   "metadata": {},
   "outputs": [
    {
     "name": "stdout",
     "output_type": "stream",
     "text": [
      "Tu raiz es 1.8293837853027315\n"
     ]
    },
    {
     "data": {
      "text/plain": [
       "1.8293837853027315"
      ]
     },
     "execution_count": 14,
     "metadata": {},
     "output_type": "execute_result"
    }
   ],
   "source": [
    "Newton(f7, df7, 1, tolerancia)"
   ]
  },
  {
   "cell_type": "markdown",
   "metadata": {},
   "source": [
    "### b)"
   ]
  },
  {
   "cell_type": "code",
   "execution_count": 15,
   "metadata": {},
   "outputs": [],
   "source": [
    "f8 = lambda x: 2*x*math.cos(2*x) - (x-2)**2\n",
    "df8 = lambda x: -2*x + 2 * (-2*x*math.sin(2*x) + math.cos(2*x)) + 4"
   ]
  },
  {
   "cell_type": "code",
   "execution_count": 21,
   "metadata": {},
   "outputs": [
    {
     "name": "stdout",
     "output_type": "stream",
     "text": [
      "Tu raiz es 2.370686917662517\n"
     ]
    },
    {
     "data": {
      "text/plain": [
       "2.370686917662517"
      ]
     },
     "execution_count": 21,
     "metadata": {},
     "output_type": "execute_result"
    }
   ],
   "source": [
    "Newton(f8, df8, 2.5, tolerancia)"
   ]
  },
  {
   "cell_type": "code",
   "execution_count": 23,
   "metadata": {},
   "outputs": [
    {
     "name": "stdout",
     "output_type": "stream",
     "text": [
      "Tu raiz es 3.722112773106613\n"
     ]
    },
    {
     "data": {
      "text/plain": [
       "3.722112773106613"
      ]
     },
     "execution_count": 23,
     "metadata": {},
     "output_type": "execute_result"
    }
   ],
   "source": [
    "Newton(f8, df8, 3.5, tolerancia)"
   ]
  },
  {
   "cell_type": "markdown",
   "metadata": {},
   "source": [
    "### c)"
   ]
  },
  {
   "cell_type": "code",
   "execution_count": 24,
   "metadata": {},
   "outputs": [],
   "source": [
    "f9 = lambda x: math.exp(x) - 3 * x**2\n",
    "df9 = lambda x: math.exp(x) - 6*x"
   ]
  },
  {
   "cell_type": "code",
   "execution_count": 25,
   "metadata": {},
   "outputs": [
    {
     "name": "stdout",
     "output_type": "stream",
     "text": [
      "Tu raiz es 0.9100075724887138\n"
     ]
    },
    {
     "data": {
      "text/plain": [
       "0.9100075724887138"
      ]
     },
     "execution_count": 25,
     "metadata": {},
     "output_type": "execute_result"
    }
   ],
   "source": [
    "Newton(f9, df9, 0.5, tolerancia)"
   ]
  },
  {
   "cell_type": "code",
   "execution_count": 27,
   "metadata": {},
   "outputs": [
    {
     "name": "stdout",
     "output_type": "stream",
     "text": [
      "Tu raiz es 3.7330790288048825\n"
     ]
    },
    {
     "data": {
      "text/plain": [
       "3.7330790288048825"
      ]
     },
     "execution_count": 27,
     "metadata": {},
     "output_type": "execute_result"
    }
   ],
   "source": [
    "Newton(f9, df9, 3.5, tolerancia)"
   ]
  },
  {
   "cell_type": "markdown",
   "metadata": {},
   "source": [
    "## Ejercicio 10"
   ]
  },
  {
   "cell_type": "markdown",
   "metadata": {},
   "source": [
    "### a)"
   ]
  },
  {
   "cell_type": "code",
   "execution_count": 29,
   "metadata": {},
   "outputs": [
    {
     "data": {
      "text/plain": [
       "1.8293834739842125"
      ]
     },
     "execution_count": 29,
     "metadata": {},
     "output_type": "execute_result"
    }
   ],
   "source": [
    "secante(f7, 1, 2, tolerancia)"
   ]
  },
  {
   "cell_type": "markdown",
   "metadata": {},
   "source": [
    "### b)"
   ]
  },
  {
   "cell_type": "code",
   "execution_count": 30,
   "metadata": {},
   "outputs": [
    {
     "data": {
      "text/plain": [
       "2.370686907966889"
      ]
     },
     "execution_count": 30,
     "metadata": {},
     "output_type": "execute_result"
    }
   ],
   "source": [
    "secante(f8,2,3, tolerancia)"
   ]
  },
  {
   "cell_type": "code",
   "execution_count": 31,
   "metadata": {},
   "outputs": [
    {
     "data": {
      "text/plain": [
       "3.722112773420417"
      ]
     },
     "execution_count": 31,
     "metadata": {},
     "output_type": "execute_result"
    }
   ],
   "source": [
    "secante(f8, 3, 4, tolerancia)"
   ]
  },
  {
   "cell_type": "markdown",
   "metadata": {},
   "source": [
    "### c)"
   ]
  },
  {
   "cell_type": "code",
   "execution_count": 32,
   "metadata": {},
   "outputs": [
    {
     "data": {
      "text/plain": [
       "0.9100075715386231"
      ]
     },
     "execution_count": 32,
     "metadata": {},
     "output_type": "execute_result"
    }
   ],
   "source": [
    "secante(f9, 0, 1, tolerancia)"
   ]
  },
  {
   "cell_type": "code",
   "execution_count": 33,
   "metadata": {},
   "outputs": [
    {
     "data": {
      "text/plain": [
       "3.7330790313204982"
      ]
     },
     "execution_count": 33,
     "metadata": {},
     "output_type": "execute_result"
    }
   ],
   "source": [
    "secante(f9, 3, 5, tolerancia)"
   ]
  },
  {
   "cell_type": "markdown",
   "metadata": {},
   "source": [
    "## Ejercicio 11"
   ]
  },
  {
   "cell_type": "code",
   "execution_count": 33,
   "metadata": {},
   "outputs": [],
   "source": [
    "p11 = lambda x: 230*x**4 + 18*x**3 + 9*x**2 - 221*x - 9\n",
    "dp11 = lambda x: 920*x**3 + 54*x**2 + 18*x - 221\n",
    "tolerancia11 = 10e-6"
   ]
  },
  {
   "cell_type": "markdown",
   "metadata": {},
   "source": [
    "### Secante"
   ]
  },
  {
   "cell_type": "code",
   "execution_count": 31,
   "metadata": {},
   "outputs": [
    {
     "data": {
      "text/plain": [
       "-0.04065928693875347"
      ]
     },
     "execution_count": 31,
     "metadata": {},
     "output_type": "execute_result"
    }
   ],
   "source": [
    "secante(p11, -0.5, 0, tolerancia11)"
   ]
  },
  {
   "cell_type": "code",
   "execution_count": 41,
   "metadata": {},
   "outputs": [
    {
     "data": {
      "text/plain": [
       "0.962398404428717"
      ]
     },
     "execution_count": 41,
     "metadata": {},
     "output_type": "execute_result"
    }
   ],
   "source": [
    "secante(p11, 0.5, 1, tolerancia)"
   ]
  },
  {
   "cell_type": "markdown",
   "metadata": {},
   "source": [
    "### Newton"
   ]
  },
  {
   "cell_type": "code",
   "execution_count": 43,
   "metadata": {},
   "outputs": [
    {
     "name": "stdout",
     "output_type": "stream",
     "text": [
      "Tu raiz es -0.04065928831592832\n"
     ]
    },
    {
     "data": {
      "text/plain": [
       "-0.04065928831592832"
      ]
     },
     "execution_count": 43,
     "metadata": {},
     "output_type": "execute_result"
    }
   ],
   "source": [
    "Newton(p11, dp11, -1, tolerancia)"
   ]
  },
  {
   "cell_type": "code",
   "execution_count": 44,
   "metadata": {},
   "outputs": [
    {
     "name": "stdout",
     "output_type": "stream",
     "text": [
      "Tu raiz es 0.9623984187505416\n"
     ]
    },
    {
     "data": {
      "text/plain": [
       "0.9623984187505416"
      ]
     },
     "execution_count": 44,
     "metadata": {},
     "output_type": "execute_result"
    }
   ],
   "source": [
    "Newton(p11, dp11, 0.6, tolerancia)"
   ]
  },
  {
   "cell_type": "markdown",
   "metadata": {},
   "source": [
    "## Ejercicio 12 "
   ]
  },
  {
   "cell_type": "code",
   "execution_count": 19,
   "metadata": {},
   "outputs": [
    {
     "name": "stdout",
     "output_type": "stream",
     "text": [
      "Solución encontrada en 7 iteraciones: [0.67013116 0.10172844 0.44894139]\n",
      "Solución encontrada en 11 iteraciones: [0.67013116 6.38491373 0.44894139]\n"
     ]
    }
   ],
   "source": [
    "#_____________________________Definimos funciones______________________________\n",
    "def F(x):\n",
    "    # X es un vector del sistema de funciones no lineal\n",
    "    I, phi, delta = x\n",
    "    return np.array([I * np.cos(phi) - 2 / 3,\n",
    "                    np.cos(delta) + 0.91 * I * np.sin(phi + delta) - 1.22,\n",
    "                    0.76 * I * np.cos(phi + delta) - np.sin(delta)])\n",
    "                        \n",
    "\n",
    "def Jacobiano(x):\n",
    "    \n",
    "    # Esta función es para sacar la sacar el Jacobiano del sistema.\n",
    "    #x = [I, phi, delta]\n",
    "    \n",
    "    I, phi, delta = x\n",
    "    return np.array([\n",
    "        [np.cos(phi), -I * np.sin(phi), 0],\n",
    "        [0.91 * np.sin(phi + delta), 0.91 * I * np.cos(phi + delta), -np.sin(delta)],\n",
    "        [0.76 * np.cos(phi + delta), -0.76 * I * np.sin(phi + delta), -np.cos(delta)]\n",
    "    ])\n",
    "\n",
    "def NewtonNueva(F, J, x0, Tol=1e-6, N=50):\n",
    "    \n",
    "    #Método de Newton para sistemas de ecuaciones no lineales.\n",
    "    #F es la Función vectorial\n",
    "    #J es el Jacobiano de F\n",
    "    #x0 es la aproximación inicial ( que es un vector)\n",
    "    #Tol es la tolerancia\n",
    "    #N es el número máximo de iteraciones\n",
    "    \n",
    "    x = x0\n",
    "    for i in range(N):\n",
    "        Fx = F(x)\n",
    "        Jx = J(x)\n",
    "        #  Aquí se debe resolver J(x) * delta_x = -F(x)\n",
    "        delta_x = np.linalg.solve(Jx, -Fx)  \n",
    "        x = x + delta_x\n",
    "\n",
    "        if np.linalg.norm(Fx, ord=2) < Tol and np.linalg.norm(delta_x, ord=2) < Tol:\n",
    "            print(f\"Solución encontrada en {i+1} iteraciones: {x}\")\n",
    "            return x\n",
    "    \n",
    "    print(\"No se encontró solución en el número máximo de iteraciones.\")\n",
    "    return x\n",
    "\n",
    "#_________________________________Ejercicios___________________________________\n",
    "\n",
    "#Ejercicio 12\n",
    "\n",
    "#En el ejercicio, nos dan tres ecuaciones no lineales con tres incógnitas. \n",
    "#Se va a definir un vectcor con las funciones F(x) que nos son dadas\n",
    "#Después, se aplicará un método iterativo el cula nos indicará en que número de\n",
    "#Iteración se encontró la solución.\n",
    "\n",
    "\n",
    "#12 a) I=1, phi=0.1, delta=0.1\n",
    "x0_a = np.array([1.0, 0.1, 0.1])\n",
    "sol_a = NewtonNueva(F, Jacobiano, x0_a)\n",
    "\n",
    "#12 b) I=1, phi=1, delta=1\n",
    "x0_b = np.array([1.0, 1.0, 1.0])\n",
    "sol_b = NewtonNueva(F, Jacobiano, x0_b)\n",
    "\n",
    "\n",
    "\n",
    "#Interpretación\n",
    "#Para determinar su admisibilidad, los resultados se deben comparar con las siguientes\n",
    "#restricciones: phi>=0, delta <= pi/2, I>0. De acuerdo a nuestra solución:\n",
    "    #Solución encontrada en 7 iteraciones: [0.67013116 0.10172844 0.44894139]\n",
    "    #Solución encontrada en 11 iteraciones: [0.67013116 6.38491373 0.44894139]\n",
    "#En donde el formato es [I,phi,delta] en cada inciso\n",
    "#De esta manera diremos que:\n",
    "    #a) Dado que los resultados se encuentran dentro de las restricciones, \n",
    "        #podemos decir que es totalmente admisible.\n",
    "    #b) Aquí el valor de phi supera el valor de la restricción, lo cual nos \n",
    "        #imposibilita el hecho de decir que es totalmente admisible."
   ]
  },
  {
   "cell_type": "markdown",
   "metadata": {},
   "source": [
    "## Ejercicio 13 y 14"
   ]
  },
  {
   "cell_type": "code",
   "execution_count": null,
   "metadata": {},
   "outputs": [],
   "source": [
    "#____________________________ Importamos libreías______________________________\n",
    "import numpy as np\n",
    "\n",
    "\n",
    "#____________________________Definimos funciones_______________________________\n",
    "# Definimos el sistema de ecuaciones\n",
    "\n",
    "def FixPoint(g, x_0, Tol=10**(-2), N=20):\n",
    "    #N es el numero de iteraciones\n",
    "    # Tol es la tolerancia\n",
    "    # g es la función a la cual se le quiere\n",
    "    # obtener el punto fijo\n",
    "    # x0 es la condicion inicial\n",
    "\n",
    "    n = 1\n",
    "    while n <= N:\n",
    "        x1 = g(x_0)\n",
    "        if np.linalg.norm(x1 - x_0) <= Tol:  # Usamos la norma para comparar vectores\n",
    "            print(f\"El punto fijo es {x1}\")\n",
    "            return x1\n",
    "        x_0 = x1\n",
    "        n += 1\n",
    "    else:\n",
    "        print(f\"Una aproximación del punto fijo es {x1}\")\n",
    "        return x1\n",
    "\n",
    "def f_a(x):\n",
    "    x1, x2 = x\n",
    "    return np.array([x1 + x2 * (x2 * (5 - x2) - 2) - 13,\n",
    "                     x1 + x2 * (x2 * (1 + x2) + 14) - 29])\n",
    "\n",
    "# Calculamos el Jacobiano\n",
    "def df_a(x):\n",
    "    x1, x2 = x\n",
    "    return np.array([[1, (5 - x2) * x2 - 2 + x2 * (5 - 2 * x2)],\n",
    "                     [1, (1 + x2) * x2 + 14 + x2 * (1 + 2 * x2)]])\n",
    "\n",
    "# Método de Newton\n",
    "def Newton(f, df, Tol, N, x0):\n",
    "    #N es el numero de iteraciones\n",
    "    # Tol es la tolerancia\n",
    "    # f es la función a la cual se le quiere\n",
    "    # obtener las raíces\n",
    "    # df es la derivada de la funcion\n",
    "    # x0 es la condicion inicial\n",
    "    Iter = 0\n",
    "    while Iter <= N:\n",
    "        fx = f(x0)\n",
    "        dfx = df(x0)\n",
    "        delta_x = np.linalg.solve(dfx, -fx)  # Resolver el sistema lineal\n",
    "        xn = x0 + delta_x\n",
    "        \n",
    "        if np.linalg.norm(f(xn)) <= Tol and np.linalg.norm(delta_x) <= Tol:\n",
    "            print(f\"Solución encontrada en {Iter} iteraciones: {xn}\")\n",
    "            return xn\n",
    "        \n",
    "        x0 = xn\n",
    "        Iter += 1\n",
    "\n",
    "    print(f\"El valor aproximado de la solución es {xn}\")\n",
    "    return xn\n",
    "\n",
    "def f_b(x):\n",
    "    x1, x2, x3 = x\n",
    "    return np.array([x1*2 + x2*2 + x3*2 - 5, \n",
    "                     x1 + x2 - 1, \n",
    "                     x1 + x3 - 3])\n",
    "\n",
    "# Jacobiano del sistema\n",
    "def df_b(x):\n",
    "    x1, x2, x3 = x\n",
    "    return np.array([[2 * x1, 2 * x2, 2 * x3], [1, 1, 0], [1, 0, 1]])\n",
    "\n",
    "def g(x):\n",
    "    x1, x2, x3 = x\n",
    "    return np.array([np.sqrt(5 - x2*2 - x3*2), 1 - x1, 3 - x1])\n",
    "\n",
    "#________________________________Ejercicios____________________________________\n",
    "\n",
    "#13a)\n",
    "x0_a = np.array([15, -2])\n",
    "sol_a = Newton(f_a, df_a, Tol=1e-6, N=20, x0=x0_a)\n",
    "\n",
    "#13b)\n",
    "x0_b = np.array([(1 + np.sqrt(3)) / 2, (1 - np.sqrt(3)) / 2, np.sqrt(3)])\n",
    "Newton(f_b, df_b, 1e-4, 50, x0_b)\n",
    "\n",
    "#14)\n",
    "x0_fix = np.array([(1 + np.sqrt(3)) / 2, (1 - np.sqrt(3)) / 2, np.sqrt(3)])\n",
    "FixPoint(g, x0_fix, Tol=1e-4, N=50)"
   ]
  }
 ],
 "metadata": {
  "kernelspec": {
   "display_name": "Python 3",
   "language": "python",
   "name": "python3"
  },
  "language_info": {
   "codemirror_mode": {
    "name": "ipython",
    "version": 3
   },
   "file_extension": ".py",
   "mimetype": "text/x-python",
   "name": "python",
   "nbconvert_exporter": "python",
   "pygments_lexer": "ipython3",
   "version": "3.9.6"
  }
 },
 "nbformat": 4,
 "nbformat_minor": 2
}
