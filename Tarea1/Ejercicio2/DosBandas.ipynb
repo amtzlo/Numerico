{
  "nbformat": 4,
  "nbformat_minor": 0,
  "metadata": {
    "colab": {
      "provenance": []
    },
    "kernelspec": {
      "name": "python3",
      "display_name": "Python 3"
    },
    "language_info": {
      "name": "python"
    }
  },
  "cells": [
    {
      "cell_type": "markdown",
      "source": [
        "# **Ejercicio 2**"
      ],
      "metadata": {
        "id": "gtKczTZst89O"
      }
    },
    {
      "cell_type": "code",
      "execution_count": null,
      "metadata": {
        "id": "lnoIQkFZthHy"
      },
      "outputs": [],
      "source": [
        "## Librerías\n",
        "import numpy as np\n",
        "import math"
      ]
    },
    {
      "cell_type": "code",
      "source": [
        "## Funciones\n",
        "#2a)\n",
        "def resolver_sistema(DI, DP, DS, b):\n",
        "    \"\"\"\n",
        "    Resuelve un sistema de dos bandas.\n",
        "    'DI': diagonal inferior\n",
        "    'DP': diagonal principal\n",
        "    'DS': diagonal superior\n",
        "    'b' : terminos independientes\n",
        "    \"\"\"\n",
        "    n = len(b)\n",
        "    # Eliminacion de Gauss modificado para obteneru una matriz triangular superior\n",
        "\n",
        "    # Caso especial: si no la diagonal inferior es 0, no hay necesidad de hacer la eliminacion\n",
        "    if np.all(DI == 0):\n",
        "      pass\n",
        "    # Si es distinta de cero, se realiza la eliminacion\n",
        "    else:\n",
        "      for i in range(1, n):\n",
        "        w = DI[i-1] / DP[i-1]\n",
        "        DP[i] -= w * DS[i-1]\n",
        "        b[i] -= w * b[i-1]\n",
        "\n",
        "    # Sustitucion hacia atras para obtener la solucion\n",
        "    x = np.zeros(n)\n",
        "    x[-1] = b[-1] / DP[-1]\n",
        "    for i in range(n-2, -1, -1):\n",
        "        x[i] = (b[i] - DS[i] * x[i+1]) / DP[i]\n",
        "\n",
        "    return x\n",
        "\n",
        "\n",
        "#2b)\n",
        "def thomas_modificado(DI, DP, DS, b):\n",
        "    \"\"\"\n",
        "    Algoritmo de Thomas Modificado\n",
        "    'DI': diagonal inferior\n",
        "    'DP': diagonal principal\n",
        "    'DS': diagonal superior\n",
        "    'b' : terminos independientes\n",
        "    \"\"\"\n",
        "    n = len(b)\n",
        "\n",
        "    # Vectores para guardar los coeficientes\n",
        "\n",
        "    b_prima = np.zeros(n)\n",
        "    DP_prima = np.copy(DP)\n",
        "\n",
        "    b_prima[0] = b[0]\n",
        "\n",
        "    # Calculo de coeficientes para eliminar la diagonal inferior\n",
        "    for i in range(n - 1):\n",
        "        w = DI[i] / DP_prima[i]\n",
        "        DP_prima[i + 1] -= w * DS[i]\n",
        "        b_prima[i + 1] = b[i + 1] - w * b_prima[i]\n",
        "\n",
        "\n",
        "    x = np.zeros(n)\n",
        "    # Calculamos el primer termino\n",
        "    x[n - 1] = b_prima[n - 1] / DP_prima[n - 1]\n",
        "\n",
        "    # Sustitucion hacia adelante\n",
        "    for i in range(n - 2, -1, -1):\n",
        "        x[i] = (b_prima[i] - DS[i] * x[i + 1]) / DP_prima[i]\n",
        "\n",
        "    return x"
      ],
      "metadata": {
        "id": "aUvuUGJLttMU"
      },
      "execution_count": null,
      "outputs": []
    }
  ]
}